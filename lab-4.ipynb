{
 "cells": [
  {
   "cell_type": "code",
   "execution_count": 21,
   "metadata": {},
   "outputs": [
    {
     "name": "stdout",
     "output_type": "stream",
     "text": [
      "number of palindrome words are: 0\n"
     ]
    }
   ],
   "source": [
    "# prog-1  number of palindrome words in the given sentence\n",
    "\n",
    "sentence = input(\"Enter the sentence: \")\n",
    "l1 = sentence.split()\n",
    "# print(l1)\n",
    "cnt=0\n",
    "for words in l1:\n",
    "    if(words == words[::-1]):\n",
    "        cnt+=1\n",
    "print(f\"number of palindrome words are: {cnt}\")\n"
   ]
  },
  {
   "cell_type": "code",
   "execution_count": 19,
   "metadata": {},
   "outputs": [
    {
     "name": "stdout",
     "output_type": "stream",
     "text": [
      "mean of list is: 2.8\n",
      "Median of the list is: 3\n",
      "4\n"
     ]
    }
   ],
   "source": [
    "# prog-2 Create a list of int using list comprehension [multiple input from keyboard].  Find the mean, median, and mode of the given list \n",
    "l1=[]\n",
    "n = int(input(\"Enter the size of the list: \"))\n",
    "# print(\"Enter the elements: \")\n",
    "i=0\n",
    "while(i<n):\n",
    "    x=int(input(\"enter element: \"))\n",
    "    l1.append(x)\n",
    "    i+=1\n",
    "# print(l1)\n",
    "l2=[x*1 for x in l1]\n",
    "# mean\n",
    "print(f\"mean of list is: {(sum(l2))/n}\")\n",
    "l3=sorted(l2)\n",
    "# median\n",
    "if(n%2):\n",
    "    print(f\"Median of the list is: {l3[n//2]}\")\n",
    "else:\n",
    "    print(f\"Median of the list is: {(l3[n//2] + l3[(n-2)//2])/2}\")\n",
    "\n",
    "# mode\n",
    "freq={}\n",
    "for num in l1:\n",
    "    freq[num] = freq.get(num,0) + 1\n",
    "    \n",
    "max_freq = max(freq.values())\n",
    "mode = [key for key, value in freq.items() if value == max_freq]\n",
    "print(f\"Mode of the list is: {mode[0]}\")\n",
    "\n",
    "\n",
    "\n",
    "\n",
    "    \n"
   ]
  },
  {
   "cell_type": "code",
   "execution_count": null,
   "metadata": {},
   "outputs": [],
   "source": [
    "# prog-3 Generate 2 lists and combine them\n",
    "course_codes = [\"CS1001\", \"CS1002\", \"CS1003\"]\n",
    "course_names = [\"Python\", \"Data Structures\", \"Algorithms\"]\n",
    "combined_list = [f\"{code}:{name}\" for code, name in zip(course_codes, course_names)]\n",
    "\n",
    "print(combined_list)\n"
   ]
  },
  {
   "cell_type": "code",
   "execution_count": 4,
   "metadata": {},
   "outputs": [
    {
     "name": "stdout",
     "output_type": "stream",
     "text": [
      "Singers: {'Shivam', 'Govind', 'Raj', 'Aman'}\n",
      "Dancers: {'Dhruv', 'Aditya'}\n",
      "\n",
      "All artists (singers or dancers): {'Dhruv', 'Raj', 'Shivam', 'Govind', 'Aman', 'Aditya'}\n",
      "Allrounders (singers and dancers): set()\n",
      "Dancers but not singers: {'Dhruv', 'Aditya'}\n",
      "Singers but not dancers: {'Shivam', 'Govind', 'Raj', 'Aman'}\n",
      "Exclusive artists (dancers but not singers or vice versa): {'Raj', 'Govind', 'Dhruv', 'Shivam', 'Aman', 'Aditya'}\n"
     ]
    }
   ],
   "source": [
    "# students name\n",
    "students = {\"Raj\", \"Aditya\", \"Aman\", \"Dhruv\", \"Govind\", \"Suraj\", \"Shivam\"}\n",
    "\n",
    "# Set comprehension \n",
    "singers = {student for student in students if student in {\"Raj\", \"Aman\", \"Govind\", \"Shivam\"}}\n",
    "dancers = {student for student in students if student in {\"Aditya\", \"Charlie\", \"Dhruv\", \"Eve\"}}\n",
    "\n",
    "\n",
    "\n",
    "# 1\n",
    "all_artists = singers.union(dancers)\n",
    "\n",
    "# 2\n",
    "allrounders = singers.intersection(dancers)\n",
    "\n",
    "# 3\n",
    "dancers_not_singers = dancers.difference(singers)\n",
    "\n",
    "# 4\n",
    "singers_not_dancers = singers.difference(dancers)\n",
    "\n",
    "# 5\n",
    "exclusive_artists = dancers.symmetric_difference(singers)\n",
    "\n",
    "print(\"Singers:\", singers)\n",
    "print(\"Dancers:\", dancers)\n",
    "print(\"\\nAll artists (singers or dancers):\", all_artists)\n",
    "print(\"Allrounders (singers and dancers):\", allrounders)\n",
    "print(\"Dancers but not singers:\", dancers_not_singers)\n",
    "print(\"Singers but not dancers:\", singers_not_dancers)\n",
    "print(\"Exclusive artists (dancers but not singers or vice versa):\", exclusive_artists)\n"
   ]
  }
 ],
 "metadata": {
  "kernelspec": {
   "display_name": "Python 3",
   "language": "python",
   "name": "python3"
  },
  "language_info": {
   "codemirror_mode": {
    "name": "ipython",
    "version": 3
   },
   "file_extension": ".py",
   "mimetype": "text/x-python",
   "name": "python",
   "nbconvert_exporter": "python",
   "pygments_lexer": "ipython3",
   "version": "3.12.5"
  }
 },
 "nbformat": 4,
 "nbformat_minor": 2
}
