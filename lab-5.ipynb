{
 "cells": [
  {
   "cell_type": "code",
   "execution_count": 1,
   "metadata": {},
   "outputs": [
    {
     "name": "stdout",
     "output_type": "stream",
     "text": [
      "The Euclidean distance between the points is: 7.0710678118654755\n"
     ]
    }
   ],
   "source": [
    "# first-question\n",
    "import math\n",
    "\n",
    "point1 = (1, 2, 3)\n",
    "point2 = (4, 6, 8)\n",
    "\n",
    "\n",
    "distance = math.sqrt((point2[0] - point1[0])**2 + (point2[1] - point1[1])**2 + (point2[2] - point1[2])**2)\n",
    "\n",
    "print(\"The Euclidean distance between the points is:\", distance)\n"
   ]
  },
  {
   "cell_type": "code",
   "execution_count": 2,
   "metadata": {},
   "outputs": [
    {
     "name": "stdout",
     "output_type": "stream",
     "text": [
      "The equation of the line is: (x - 2) = 1.0 * (y - 3)\n"
     ]
    }
   ],
   "source": [
    "# second-question\n",
    "x1, y1 = [int(i) for i in input(\"Enter the coordinates of the first point (x1, y1): \").split()]\n",
    "x2, y2 = [int(i) for i in input(\"Enter the coordinates of the second point (x2, y2): \").split()]\n",
    "\n",
    "# slope\n",
    "slope = (x1 - x2) / (y1 - y2)\n",
    "\n",
    "\n",
    "print(f\"The equation of the line is: (x - {x1}) = {slope} * (y - {y1})\")\n"
   ]
  },
  {
   "cell_type": "code",
   "execution_count": 3,
   "metadata": {},
   "outputs": [
    {
     "name": "stdout",
     "output_type": "stream",
     "text": [
      "'p': 1\n",
      "'r': 1\n",
      "'a': 2\n",
      "'s': 1\n",
      "'h': 1\n",
      "'n': 1\n",
      "'t': 1\n"
     ]
    }
   ],
   "source": [
    "# third-question\n",
    "\n",
    "string = input(\"Enter a string: \")\n",
    "char_count = {}\n",
    "\n",
    "\n",
    "for char in string:\n",
    "    # If the character is already in the dictionary, increment its count\n",
    "    if char in char_count:\n",
    "        char_count[char] += 1\n",
    "    # Otherwise, add the character to the dictionary with a count of 1\n",
    "    else:\n",
    "        char_count[char] = 1\n",
    "        \n",
    "for char, count in char_count.items():\n",
    "    print(f\"'{char}': {count}\")\n"
   ]
  },
  {
   "cell_type": "code",
   "execution_count": 5,
   "metadata": {},
   "outputs": [
    {
     "name": "stdout",
     "output_type": "stream",
     "text": [
      "List of tuples without using zip(): [('prashant', 1, 4), ('nikhil', 2, 5), ('kanhaiya', 3, 6)]\n"
     ]
    }
   ],
   "source": [
    "# fourth-question\n",
    "# taking input using list comprehension\n",
    "customer_names = [input(f\"Enter name for customer {i+1}: \") for i in range(3)]\n",
    "customer_ids = [int(input(f\"Enter ID for customer {i+1}: \")) for i in range(3)]\n",
    "shopping_points = [int(input(f\"Enter shopping points for customer {i+1}: \")) for i in range(3)]\n",
    "\n",
    "customer_info = [(customer_names[i], customer_ids[i], shopping_points[i]) for i in range(3)]\n",
    "\n",
    "print(\"List of tuples without using zip():\", customer_info)\n",
    "\n"
   ]
  },
  {
   "cell_type": "code",
   "execution_count": 6,
   "metadata": {},
   "outputs": [
    {
     "name": "stdout",
     "output_type": "stream",
     "text": [
      "Sorted list of tuples using sorted(): [('prashant', 1, 4), ('nikhil', 2, 5), ('kanhaiya', 3, 6)]\n"
     ]
    }
   ],
   "source": [
    "# taking input using list comprehension\n",
    "customer_names = [input(f\"Enter name for customer {i+1}: \") for i in range(3)]\n",
    "customer_ids = [int(input(f\"Enter ID for customer {i+1}: \")) for i in range(3)]\n",
    "shopping_points = [int(input(f\"Enter shopping points for customer {i+1}: \")) for i in range(3)]\n",
    "\n",
    "customer_info = [(customer_names[i], customer_ids[i], shopping_points[i]) for i in range(3)]\n",
    "\n",
    "sorted_customers = sorted(customer_info, key=lambda x: x[1])\n",
    "\n",
    "print(\"Sorted list of tuples using sorted():\", sorted_customers)\n"
   ]
  },
  {
   "cell_type": "code",
   "execution_count": 7,
   "metadata": {},
   "outputs": [
    {
     "name": "stdout",
     "output_type": "stream",
     "text": [
      "Sorted list of tuples without using sorted(): [('kanhaiya', 2, 3), ('nikhil', 3, 2), ('prashant', 4, 1)]\n"
     ]
    }
   ],
   "source": [
    "# taking input using list comprehension\n",
    "customer_names = [input(f\"Enter name for customer {i+1}: \") for i in range(3)]\n",
    "customer_ids = [int(input(f\"Enter ID for customer {i+1}: \")) for i in range(3)]\n",
    "shopping_points = [int(input(f\"Enter shopping points for customer {i+1}: \")) for i in range(3)]\n",
    "\n",
    "customer_info = [(customer_names[i], customer_ids[i], shopping_points[i]) for i in range(3)]\n",
    "# Sorting the list of tuples manually without using sorted() (Bubble Sort based on Customer ID)\n",
    "customer_info_sorted = customer_info[:]  # Copying the list\n",
    "\n",
    "# Implementing Bubble Sort\n",
    "for i in range(len(customer_info_sorted)):\n",
    "    for j in range(0, len(customer_info_sorted) - i - 1):\n",
    "        if customer_info_sorted[j][1] > customer_info_sorted[j + 1][1]:\n",
    "            customer_info_sorted[j], customer_info_sorted[j + 1] = customer_info_sorted[j + 1], customer_info_sorted[j]\n",
    "\n",
    "print(\"Sorted list of tuples without using sorted():\", customer_info_sorted)\n"
   ]
  }
 ],
 "metadata": {
  "kernelspec": {
   "display_name": "Python 3",
   "language": "python",
   "name": "python3"
  },
  "language_info": {
   "codemirror_mode": {
    "name": "ipython",
    "version": 3
   },
   "file_extension": ".py",
   "mimetype": "text/x-python",
   "name": "python",
   "nbconvert_exporter": "python",
   "pygments_lexer": "ipython3",
   "version": "3.12.7"
  }
 },
 "nbformat": 4,
 "nbformat_minor": 2
}
